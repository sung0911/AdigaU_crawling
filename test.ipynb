{
 "cells": [
  {
   "cell_type": "code",
   "id": "initial_id",
   "metadata": {
    "collapsed": true,
    "ExecuteTime": {
     "end_time": "2024-05-19T10:12:49.022633Z",
     "start_time": "2024-05-19T10:12:49.017137Z"
    }
   },
   "source": [
    "import re\n",
    "import time\n",
    "from selenium import webdriver\n",
    "from selenium.webdriver.common.by import By\n",
    "from selenium.webdriver.edge.service import Service\n",
    "from bs4 import BeautifulSoup"
   ],
   "outputs": [],
   "execution_count": 12
  },
  {
   "metadata": {
    "ExecuteTime": {
     "end_time": "2024-05-19T10:13:02.435746Z",
     "start_time": "2024-05-19T10:12:49.673132Z"
    }
   },
   "cell_type": "code",
   "source": [
    "s = Service(r'C:\\Users\\home\\Documents\\edgedriver_win64\\msedgedriver.exe')\n",
    "driver = webdriver.Edge(service=s)\n",
    "url = 'https://www.instagram.com'\n",
    "driver.get(url)\n",
    "time.sleep(10)"
   ],
   "id": "a08af4ea2dc9b675",
   "outputs": [],
   "execution_count": 13
  },
  {
   "metadata": {
    "ExecuteTime": {
     "end_time": "2024-05-19T10:13:04.888682Z",
     "start_time": "2024-05-19T10:13:02.442766Z"
    }
   },
   "cell_type": "code",
   "source": [
    "username_input = driver.find_element(By.NAME, 'username')\n",
    "password_input = driver.find_element(By.NAME, 'password')\n",
    "username_input.send_keys('tjdwnsgur0911@gmail.com')\n",
    "password_input.send_keys('enter the password')\n",
    "login = driver.find_element(By.XPATH, \"//button[@type='submit']\")\n",
    "login.click()"
   ],
   "id": "d45c58fd55651a54",
   "outputs": [],
   "execution_count": 14
  },
  {
   "metadata": {
    "ExecuteTime": {
     "end_time": "2024-05-19T10:13:10.777285Z",
     "start_time": "2024-05-19T10:13:10.772893Z"
    }
   },
   "cell_type": "code",
   "source": [
    "def insta_searching(profile):\n",
    "    url = 'https://www.instagram.com/' + profile + '/'\n",
    "    return url"
   ],
   "id": "b40d1380fb5aa690",
   "outputs": [],
   "execution_count": 15
  },
  {
   "metadata": {
    "ExecuteTime": {
     "end_time": "2024-05-19T10:13:13.771474Z",
     "start_time": "2024-05-19T10:13:11.981445Z"
    }
   },
   "cell_type": "code",
   "source": "driver.get(insta_searching('daejeon_people'))",
   "id": "e3898d468719fa5e",
   "outputs": [],
   "execution_count": 16
  },
  {
   "metadata": {
    "ExecuteTime": {
     "end_time": "2024-05-19T10:13:19.666855Z",
     "start_time": "2024-05-19T10:13:19.182157Z"
    }
   },
   "cell_type": "code",
   "source": [
    "from selenium.webdriver.support.ui import WebDriverWait\n",
    "from selenium.webdriver.support import expected_conditions as EC\n",
    "from selenium.webdriver.common.keys import Keys\n",
    "\n",
    "def first_post(driver):\n",
    "    first = driver.find_element(By.CSS_SELECTOR,\"a[href = '/reel/C4xQmmRLNc3/']\")\n",
    "    first.click()\n",
    "    \n",
    "first_post(driver)"
   ],
   "id": "8af5fd54ef168779",
   "outputs": [],
   "execution_count": 17
  },
  {
   "metadata": {
    "ExecuteTime": {
     "end_time": "2024-05-19T10:13:24.423914Z",
     "start_time": "2024-05-19T10:13:24.415728Z"
    }
   },
   "cell_type": "code",
   "source": [
    "import unicodedata as uni\n",
    "import re\n",
    "\n",
    "def get_content(driver):\n",
    "    html = driver.page_source\n",
    "    soup = BeautifulSoup(html, 'html.parser')\n",
    "    try:\n",
    "        content = soup.select('div._a9zs')[0].text\n",
    "        content = uni.normalize('NFC',content)\n",
    "    except:\n",
    "        content = ' '\n",
    "    tags = re.findall(r'#[^Ws#,\\\\]+', content)\n",
    "    try:\n",
    "        date = soup.select(\"time._a9ze._a9zf\")[0]['datetime'][:10]\n",
    "    except IndexError:\n",
    "        date = None\n",
    "    content = content.split(\"#\")[0]\n",
    "    data = [content, tags, date]\n",
    "    return data"
   ],
   "id": "5df868afff36aa4c",
   "outputs": [],
   "execution_count": 18
  },
  {
   "metadata": {
    "ExecuteTime": {
     "end_time": "2024-05-19T10:13:25.595668Z",
     "start_time": "2024-05-19T10:13:25.591842Z"
    }
   },
   "cell_type": "code",
   "source": [
    "def move_next(driver):\n",
    "    right = driver.find_element(By.CSS_SELECTOR, \"svg[aria-label = '다음']\")\n",
    "    right.click()\n",
    "    time.sleep(4)"
   ],
   "id": "601f9a69cc8fda12",
   "outputs": [],
   "execution_count": 19
  },
  {
   "metadata": {
    "ExecuteTime": {
     "end_time": "2024-05-19T10:13:51.951865Z",
     "start_time": "2024-05-19T10:13:29.841931Z"
    }
   },
   "cell_type": "code",
   "source": [
    "post_number = 5\n",
    "total_data = []\n",
    "for i in range(post_number):\n",
    "    try:\n",
    "        data = get_content(driver)\n",
    "        total_data.append(data)\n",
    "        move_next(driver)\n",
    "    except:\n",
    "        move_next(driver)\n",
    "print(total_data)"
   ],
   "id": "d136c91ee6cf2d3e",
   "outputs": [
    {
     "name": "stdout",
     "output_type": "stream",
     "text": [
      "[['와..갈마동에 이런 곳이 생겼네..??입구에서 짚불쇼 한 번 감상 해 주고 들어가면 벌써부터 사람 많은 거 벌써 실화..?짚불구이에 초벌 된 소고기랑 닭고기 향 미쳤다구술꾼들은 호랑순두부 시켜 먹으면 주량 2배 가능..🚩대전 서구 갈마중로 7 1층++야 갈마동 신상이라는데 비주얼 미친 거 아님 >< ? ', ['#갈마동맛집 ', '#천도씨 ', '#대전서구맛집 ', '#둔산동맛집 ', '#갈마동 ', '#둔산동 ', '#갈마동술집 ', '#둔산동술집 ', '#대전'], '2024-03-21'], ['한 번도 안 간 사람은 있어도 한 번만 간 사람은 없다!!대전 로컬들한테 사정사정해서 찐맛집을 알아왔다는ㅎㅎㅎㅎ어디서 먹어야 잘 먹었다는 소문날지 고민하는 사람을 위한 또간집 2탄!안 가본 사람은 여기 가서 푸파 어떤데~~~!++대전 토박이들의 숨겨진 맛집있다면 댓글 플리즈..!!', ['#대전맛집 ', '#대전맛집추천 ', '#대전핫플 ', '#대전여행', '#대전여행 ', '#대전가볼만한곳 ', '#대전고기 ', '#대전서구맛집', '#대전여행지추천 ', '#대전술집 ', '#대전노포맛집'], '2024-05-19'], ['대전 이곳에서만 먹는 메뉴가 있다고?!46년이라는 역사를 가진 대흥동 타향골!따귀탕이라고 들어보신 분!맛있어서 따귀 맞아도 계속 먹게 되는 맛이라 따귀탕이라고 이름 지었다고 함 ㅋㅋㅋ국물이 완전 해장을 부르는 맛이고 진심 살이 야들야들 그 잡채(?)그리고 기름칠 가능한 투플 암소 한우도 있는데소고기 오마카세 기강 잡을 듯.. 느끼한 거 1도 없고입에 넣는 순간 솜사탕 빙의해서 사라짐 주의..성심당에서도 차 끌고 5분이면 가니까 여기서대전 시내 나들이 갔다가 여기서 입호강 고고?◈', ['#타향골◈＊대전 중구 중교로 7-17 1층＊매일 11:00 ~ 21:30 / 라스트 오더 21:00 / 일요일 정기휴무 * 따귀탕 10.0 / 꽃갈비살 32.0 / 가리구이 32.0 / 생갈비 63.0 / 강황소주 6.0', '#따귀탕 ', '#대전대흥동맛집 ', '#대전고기맛집 ', '#대전중구맛집', '#대전중구청맛집', '#대전은행동맛집 ', '#대전맛집 ', '#대전소고기', '#대전한우 ', '#대전고기 ', '#대전해장국 ', '#대전해장국'], '2024-05-18'], ['고기에 진심인 사장님이 관저동에 고깃집 하고 계셨던 거 아세요?관저동 먹자골목에는 먹을 곳 진짜 많은 거 알지?그럼에도 불구하고 웨이팅 해서 먹는 고깃집!! 관저동 서씨고기!관저 사람들은 이미 n 번차 또 간 집이라고 입소문 났나는,,고기 구워지는 거 힘드시죠? 여긴 계란찜이랑 김치찌개가서비스로 나오니 한잔하면서 기다리세요ㅎㅎㅎ240시간 숙성시킨 쫄깃한 돼지고기들을 골고루 맛볼 수 있고또 여긴 사장님께서 구워주시니 맛나게 먹기만 하면 끝!육즙 가득 차있고 씹으면 씹을수록 느끼한 거 1도 없이 고소한 거 보니왜 웨이팅 해서 먹는지 알겠더라구요;;잠깐만요! 디저트 안 먹고 가는 거 아니죠?볶음밥도 사장님께서 주방에서 볶아서 가져다주시니편하게 먹기만 하세요 ><저녁에 가면 관저동 로컬들로 꽉 찬 서씨고기로 오픈런 하실 분?? ㅋㅋㅋ◈', ['#서씨고기◈＊대전 서구 관저중로96번길 20 1층 서씨고기＊평일 16:00 ~24:00 / 주말 11:30 ~24:00 / 라스트오더 23:30＊숙성 삼겹살 14.0 / 갈매기살 15.0 / 목살 14.0 / 깍밥 4.0', '#대전삼겹살맛집 ', '#대전맛집 ', '#대전고기 ', '#대전삼겹살', '#관저동맛집 ', '#대전숯불구이 ', '#대전맛집추천 ', '#대전서구맛집'], '2024-05-17'], ['청주 사람들은 좋겠다....충청도에서 이거 먹으려면 청주까지 가야 함...울산 야끼니꾸 근본 집 호박꽃이 청주에 찾아왔다는ㄷㄷ;;70평 대형 크기의 매장과 감성적인 좌석!그리고 여기 비밀의 문이 있는데 열고 들어가면회식하기도 딱인 단체룸도 있음ㅎㅎㅎ청주분들은 오마카세 가지 마셔요..!사장님께서 최상의 소고기를 골라서 즉석으로 손질해 주시니여기가 진정한 소고기 오마카세 아닙니까?ㅎㅎㅎ입에서 녹는다는 표현을 쓸 정도로 고기가 느끼한 거 없이 고소하고육즙도 꽉 차있으니 술을 부를 수밖에 없다라고요ㅠㅠ곁들임 음식에도 진심인 편이라서 먹는 순간 일본 현지에 온듯한 맛을 내는 우니와 단새우!국물 한입 먹으면 다시 한국으로 돌아오게 만드는 후식 메뉴까지 완벽합니다~!입호강 시켜주기 딱인 이곳! 이번 주말에 호박꽃에서 데이트 어때요!?◈', ['#호박꽃청주직영점◈＊충북 청주시 흥덕구 진재로 85-33 1층 101', '#복대동맛집 ', '#청주맛집 ', '#대전근교맛집 ', '#청주맛집추천', '#청주소고기 ', '#청주야끼니꾸 ', '#청주오마카세 ', '#청주한우', '#청주고기맛집 ', '#호박꽃 ', '#청주복대동맛집'], '2024-05-16']]\n"
     ]
    }
   ],
   "execution_count": 20
  },
  {
   "metadata": {},
   "cell_type": "code",
   "outputs": [],
   "execution_count": null,
   "source": "",
   "id": "cf14152e60ae3b28"
  }
 ],
 "metadata": {
  "kernelspec": {
   "display_name": "Python 3",
   "language": "python",
   "name": "python3"
  },
  "language_info": {
   "codemirror_mode": {
    "name": "ipython",
    "version": 2
   },
   "file_extension": ".py",
   "mimetype": "text/x-python",
   "name": "python",
   "nbconvert_exporter": "python",
   "pygments_lexer": "ipython2",
   "version": "2.7.6"
  }
 },
 "nbformat": 4,
 "nbformat_minor": 5
}
